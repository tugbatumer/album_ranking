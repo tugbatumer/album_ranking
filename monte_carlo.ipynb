{
 "cells": [
  {
   "metadata": {
    "ExecuteTime": {
     "end_time": "2025-07-09T12:39:42.410671Z",
     "start_time": "2025-07-09T12:39:42.408434Z"
    }
   },
   "cell_type": "code",
   "source": [
    "from helpers import simulate_ranking_loss\n",
    "from tqdm import tqdm\n",
    "import json"
   ],
   "id": "c3144dee453be6da",
   "outputs": [],
   "execution_count": 4
  },
  {
   "cell_type": "code",
   "id": "initial_id",
   "metadata": {
    "collapsed": true,
    "ExecuteTime": {
     "end_time": "2025-07-09T12:54:27.507048Z",
     "start_time": "2025-07-09T12:39:43.979740Z"
    }
   },
   "source": [
    "# Run this once to precompute values for k from 5 to 20\n",
    "baseline_loss_stats = {}\n",
    "for k in tqdm(range(5, 21)):\n",
    "    mean, std = simulate_ranking_loss(k, top_n = 5, num_trials = int(1e7))\n",
    "    baseline_loss_stats[k] = {'mean': mean, 'std': std}\n",
    "\n",
    "with open('baseline_loss_stats.json', 'w') as f:\n",
    "    json.dump(baseline_loss_stats, f, indent=2)"
   ],
   "outputs": [
    {
     "name": "stderr",
     "output_type": "stream",
     "text": [
      "100%|██████████| 16/16 [14:43<00:00, 55.22s/it]\n"
     ]
    }
   ],
   "execution_count": 5
  }
 ],
 "metadata": {
  "kernelspec": {
   "display_name": "Python 3",
   "language": "python",
   "name": "python3"
  },
  "language_info": {
   "codemirror_mode": {
    "name": "ipython",
    "version": 2
   },
   "file_extension": ".py",
   "mimetype": "text/x-python",
   "name": "python",
   "nbconvert_exporter": "python",
   "pygments_lexer": "ipython2",
   "version": "2.7.6"
  }
 },
 "nbformat": 4,
 "nbformat_minor": 5
}
