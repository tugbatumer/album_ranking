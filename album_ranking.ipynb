{
 "cells": [
  {
   "metadata": {
    "ExecuteTime": {
     "end_time": "2025-06-18T16:32:24.370928Z",
     "start_time": "2025-06-18T16:32:21.861913Z"
    }
   },
   "cell_type": "code",
   "source": [
    "from helpers import *\n",
    "from create_album_jsons import *\n",
    "%load_ext autoreload\n",
    "%autoreload 2"
   ],
   "id": "5a23e47c61d09c48",
   "outputs": [
    {
     "name": "stderr",
     "output_type": "stream",
     "text": [
      "/Users/tugba/Library/Python/3.9/lib/python/site-packages/urllib3/__init__.py:35: NotOpenSSLWarning: urllib3 v2 only supports OpenSSL 1.1.1+, currently the 'ssl' module is compiled with 'LibreSSL 2.8.3'. See: https://github.com/urllib3/urllib3/issues/3020\n",
      "  warnings.warn(\n"
     ]
    }
   ],
   "execution_count": 1
  },
  {
   "cell_type": "code",
   "id": "initial_id",
   "metadata": {
    "collapsed": true,
    "ExecuteTime": {
     "end_time": "2025-06-18T16:32:24.402986Z",
     "start_time": "2025-06-18T16:32:24.385203Z"
    }
   },
   "source": [
    "rankings = [\n",
    "    {\n",
    "        'album': 'Even in Arcadia',\n",
    "        'artist': 'Sleep Token',\n",
    "        'spotify_id': '1lS7FeRcSUuIGqyg99UGpj',\n",
    "        'Yagiz': [1, 3, 0, 8, 5],\n",
    "        'Tugba': [1, 3, 7, 0, 5],\n",
    "    },\n",
    "    {\n",
    "        'album': 'The New Abnormal',\n",
    "        'artist': 'The Strokes',\n",
    "        'spotify_id': '2xkZV2Hl1Omi8rk2D7t5lN',\n",
    "        'Yagiz': [0, 8, 6, 2, 1],\n",
    "        'Tugba': [8, 1, 0, 2, 6],\n",
    "    },\n",
    "    \n",
    "    {\n",
    "        'album': 'BODIES',\n",
    "        'artist': 'Thornhill',\n",
    "        'spotify_id': '5bJeb7bvHrxNvZ6UskCoqm',\n",
    "        'Yagiz': [1, 2, 10, 9, 5],\n",
    "        'Tugba': [10, 2, 3, 5, 1],\n",
    "    },\n",
    "    \n",
    "    {\n",
    "        'album': 'Skinty Fia',\n",
    "        'artist': 'Fontaines D.C.',\n",
    "        'spotify_id': '0aVN6rMKthfuAdDXn8RTXf',\n",
    "        'Yagiz': [8, 5, 0, 7, 3],\n",
    "        'Tugba': [8, 3, 5, 1, 4],\n",
    "    },\n",
    "    {\n",
    "        'album': 'Radiant Dark',\n",
    "        'artist': 'If I Were You',\n",
    "        'spotify_id': '2qGyywbFxucSBkPMPgfQ2w',\n",
    "        'Yagiz': [5, 2, 9, 1, 0],\n",
    "        'Tugba': [2, 4, 9, 5, 1],\n",
    "    },\n",
    "]\n",
    "\n",
    "ranking_df = pd.DataFrame(rankings)"
   ],
   "outputs": [],
   "execution_count": 2
  },
  {
   "metadata": {
    "ExecuteTime": {
     "end_time": "2025-06-18T16:32:24.532402Z",
     "start_time": "2025-06-18T16:32:24.512383Z"
    }
   },
   "cell_type": "code",
   "source": [
    "ranking_loss_df = compute_ranking_loss_df(ranking_df)\n",
    "ranking_loss_df.head()"
   ],
   "id": "85291a019f3cdbf1",
   "outputs": [
    {
     "data": {
      "text/plain": [
       "              album          artist              spotify_id             Yagiz  \\\n",
       "0   Even in Arcadia     Sleep Token  1lS7FeRcSUuIGqyg99UGpj   [1, 3, 0, 8, 5]   \n",
       "1  The New Abnormal     The Strokes  2xkZV2Hl1Omi8rk2D7t5lN   [0, 8, 6, 2, 1]   \n",
       "2            BODIES       Thornhill  5bJeb7bvHrxNvZ6UskCoqm  [1, 2, 10, 9, 5]   \n",
       "3        Skinty Fia  Fontaines D.C.  0aVN6rMKthfuAdDXn8RTXf   [8, 5, 0, 7, 3]   \n",
       "4      Radiant Dark   If I Were You  2qGyywbFxucSBkPMPgfQ2w   [5, 2, 9, 1, 0]   \n",
       "\n",
       "              Tugba  loss  \n",
       "0   [1, 3, 7, 0, 5]     6  \n",
       "1   [8, 1, 0, 2, 6]     8  \n",
       "2  [10, 2, 3, 5, 1]    12  \n",
       "3   [8, 3, 5, 1, 4]    14  \n",
       "4   [2, 4, 9, 5, 1]    10  "
      ],
      "text/html": [
       "<div>\n",
       "<style scoped>\n",
       "    .dataframe tbody tr th:only-of-type {\n",
       "        vertical-align: middle;\n",
       "    }\n",
       "\n",
       "    .dataframe tbody tr th {\n",
       "        vertical-align: top;\n",
       "    }\n",
       "\n",
       "    .dataframe thead th {\n",
       "        text-align: right;\n",
       "    }\n",
       "</style>\n",
       "<table border=\"1\" class=\"dataframe\">\n",
       "  <thead>\n",
       "    <tr style=\"text-align: right;\">\n",
       "      <th></th>\n",
       "      <th>album</th>\n",
       "      <th>artist</th>\n",
       "      <th>spotify_id</th>\n",
       "      <th>Yagiz</th>\n",
       "      <th>Tugba</th>\n",
       "      <th>loss</th>\n",
       "    </tr>\n",
       "  </thead>\n",
       "  <tbody>\n",
       "    <tr>\n",
       "      <th>0</th>\n",
       "      <td>Even in Arcadia</td>\n",
       "      <td>Sleep Token</td>\n",
       "      <td>1lS7FeRcSUuIGqyg99UGpj</td>\n",
       "      <td>[1, 3, 0, 8, 5]</td>\n",
       "      <td>[1, 3, 7, 0, 5]</td>\n",
       "      <td>6</td>\n",
       "    </tr>\n",
       "    <tr>\n",
       "      <th>1</th>\n",
       "      <td>The New Abnormal</td>\n",
       "      <td>The Strokes</td>\n",
       "      <td>2xkZV2Hl1Omi8rk2D7t5lN</td>\n",
       "      <td>[0, 8, 6, 2, 1]</td>\n",
       "      <td>[8, 1, 0, 2, 6]</td>\n",
       "      <td>8</td>\n",
       "    </tr>\n",
       "    <tr>\n",
       "      <th>2</th>\n",
       "      <td>BODIES</td>\n",
       "      <td>Thornhill</td>\n",
       "      <td>5bJeb7bvHrxNvZ6UskCoqm</td>\n",
       "      <td>[1, 2, 10, 9, 5]</td>\n",
       "      <td>[10, 2, 3, 5, 1]</td>\n",
       "      <td>12</td>\n",
       "    </tr>\n",
       "    <tr>\n",
       "      <th>3</th>\n",
       "      <td>Skinty Fia</td>\n",
       "      <td>Fontaines D.C.</td>\n",
       "      <td>0aVN6rMKthfuAdDXn8RTXf</td>\n",
       "      <td>[8, 5, 0, 7, 3]</td>\n",
       "      <td>[8, 3, 5, 1, 4]</td>\n",
       "      <td>14</td>\n",
       "    </tr>\n",
       "    <tr>\n",
       "      <th>4</th>\n",
       "      <td>Radiant Dark</td>\n",
       "      <td>If I Were You</td>\n",
       "      <td>2qGyywbFxucSBkPMPgfQ2w</td>\n",
       "      <td>[5, 2, 9, 1, 0]</td>\n",
       "      <td>[2, 4, 9, 5, 1]</td>\n",
       "      <td>10</td>\n",
       "    </tr>\n",
       "  </tbody>\n",
       "</table>\n",
       "</div>"
      ]
     },
     "execution_count": 3,
     "metadata": {},
     "output_type": "execute_result"
    }
   ],
   "execution_count": 3
  },
  {
   "metadata": {
    "ExecuteTime": {
     "end_time": "2025-06-18T16:32:24.744803Z",
     "start_time": "2025-06-18T16:32:24.587605Z"
    }
   },
   "cell_type": "code",
   "source": "plot_ranking_losses(ranking_loss_df)",
   "id": "77f323225a521310",
   "outputs": [
    {
     "data": {
      "text/plain": [
       "<Figure size 1000x500 with 1 Axes>"
      ],
      "image/png": "[encoded data removed]"
     },
     "metadata": {},
     "output_type": "display_data"
    }
   ],
   "execution_count": 4
  },
  {
   "metadata": {
    "ExecuteTime": {
     "end_time": "2025-06-18T16:32:28.140221Z",
     "start_time": "2025-06-18T16:32:28.125640Z"
    }
   },
   "cell_type": "code",
   "source": [
    "import json\n",
    "\n",
    "output = [\n",
    "    {\n",
    "        'album': row['album'],\n",
    "        'artist': row['artist'],\n",
    "        'spotify_id': row['spotify_id'],\n",
    "        'loss': row['loss'],\n",
    "        'Yagiz': row['Yagiz'],\n",
    "        'Tugba': row['Tugba'],\n",
    "    }\n",
    "    for _, row in ranking_loss_df.iterrows()\n",
    "]\n",
    "\n",
    "with open('albums.json', 'w') as f:\n",
    "    json.dump(output, f, indent=2)"
   ],
   "id": "f8eeede8330ac44b",
   "outputs": [],
   "execution_count": 5
  },
  {
   "metadata": {
    "ExecuteTime": {
     "end_time": "2025-06-18T16:32:29.243270Z",
     "start_time": "2025-06-18T16:32:28.593781Z"
    }
   },
   "cell_type": "code",
   "source": [
    "for album in rankings:\n",
    "    generate_album_json(\n",
    "        album_id=album['spotify_id'],\n",
    "        album_slug=make_slug(album['album']),\n",
    "        yagiz_ranks=album['Yagiz'],\n",
    "        tugba_ranks=album['Tugba']\n",
    "    )"
   ],
   "id": "a5058926bbe88384",
   "outputs": [
    {
     "name": "stdout",
     "output_type": "stream",
     "text": [
      "Saved albums/even-in-arcadia.json\n",
      "Saved albums/the-new-abnormal.json\n",
      "Saved albums/bodies.json\n",
      "Saved albums/skinty-fia.json\n",
      "Saved albums/radiant-dark.json\n"
     ]
    }
   ],
   "execution_count": 6
  },
  {
   "metadata": {},
   "cell_type": "code",
   "outputs": [],
   "execution_count": null,
   "source": "",
   "id": "d048d973d7d803e9"
  }
 ],
 "metadata": {
  "kernelspec": {
   "display_name": "Python 3",
   "language": "python",
   "name": "python3"
  },
  "language_info": {
   "codemirror_mode": {
    "name": "ipython",
    "version": 2
   },
   "file_extension": ".py",
   "mimetype": "text/x-python",
   "name": "python",
   "nbconvert_exporter": "python",
   "pygments_lexer": "ipython2",
   "version": "2.7.6"
  }
 },
 "nbformat": 4,
 "nbformat_minor": 5
}
